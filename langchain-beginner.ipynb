{
 "cells": [
  {
   "cell_type": "markdown",
   "id": "ff446417-f8c2-4857-8ec2-f62aa2aa1f46",
   "metadata": {},
   "source": [
    "# Importing Modules"
   ]
  },
  {
   "cell_type": "code",
   "execution_count": 1,
   "id": "4b0c1bb7-668a-4558-831e-25ccd230d2ca",
   "metadata": {},
   "outputs": [],
   "source": [
    "from dotenv import load_dotenv\n",
    "from langchain_openai import ChatOpenAI\n",
    "from langchain_core.messages import HumanMessage\n",
    "from langchain_core.prompts import ChatPromptTemplate\n",
    "from langchain_core.output_parsers import StrOutputParser"
   ]
  },
  {
   "cell_type": "markdown",
   "id": "a1c91313-78cc-4c3d-8fa8-193ff846a06e",
   "metadata": {},
   "source": [
    "# Loading env file to get the OpenAI api key"
   ]
  },
  {
   "cell_type": "code",
   "execution_count": 2,
   "id": "f1d6980f-85a8-4809-b1a3-e1073284798d",
   "metadata": {},
   "outputs": [
    {
     "data": {
      "text/plain": [
       "True"
      ]
     },
     "execution_count": 2,
     "metadata": {},
     "output_type": "execute_result"
    }
   ],
   "source": [
    "load_dotenv()"
   ]
  },
  {
   "cell_type": "markdown",
   "id": "6ef882d3-4c7a-4b67-8b5c-4e89c9ee4df5",
   "metadata": {},
   "source": [
    "# Initializing the model"
   ]
  },
  {
   "cell_type": "code",
   "execution_count": 3,
   "id": "2c4b4fc0-d4a6-47a3-a02f-19a409d80205",
   "metadata": {},
   "outputs": [],
   "source": [
    "chat_model = ChatOpenAI(temperature=0)"
   ]
  },
  {
   "cell_type": "markdown",
   "id": "e683842a-c3ba-4c26-a0f4-9ee5668d77cf",
   "metadata": {},
   "source": [
    "# Invoking the model"
   ]
  },
  {
   "cell_type": "code",
   "execution_count": 4,
   "id": "72d40a80-ade5-466f-8e08-b151f66795f9",
   "metadata": {},
   "outputs": [
    {
     "data": {
      "text/plain": [
       "AIMessage(content=\"Why did the bear break up with his girlfriend? \\n\\nBecause he couldn't bear the relationship any longer!\", additional_kwargs={'refusal': None}, response_metadata={'token_usage': {'completion_tokens': 21, 'prompt_tokens': 14, 'total_tokens': 35}, 'model_name': 'gpt-3.5-turbo-0125', 'system_fingerprint': None, 'finish_reason': 'stop', 'logprobs': None}, id='run-0faac1be-abbc-46dc-81a5-33beecd05388-0', usage_metadata={'input_tokens': 14, 'output_tokens': 21, 'total_tokens': 35})"
      ]
     },
     "execution_count": 4,
     "metadata": {},
     "output_type": "execute_result"
    }
   ],
   "source": [
    "chat_model.invoke(\"Tell me a joke about bears!\")"
   ]
  },
  {
   "cell_type": "code",
   "execution_count": 5,
   "id": "8cdd8e18-1468-412f-ac4b-786a1a7b220e",
   "metadata": {},
   "outputs": [
    {
     "data": {
      "text/plain": [
       "AIMessage(content='Why did Nimo go to school?\\n\\nTo improve his \"fish\"ion sense!', additional_kwargs={'refusal': None}, response_metadata={'token_usage': {'completion_tokens': 17, 'prompt_tokens': 14, 'total_tokens': 31}, 'model_name': 'gpt-3.5-turbo-0125', 'system_fingerprint': None, 'finish_reason': 'stop', 'logprobs': None}, id='run-f75a55eb-ee7e-47e9-9153-d30fcde51a90-0', usage_metadata={'input_tokens': 14, 'output_tokens': 17, 'total_tokens': 31})"
      ]
     },
     "execution_count": 5,
     "metadata": {},
     "output_type": "execute_result"
    }
   ],
   "source": [
    "message = HumanMessage(\"Tell me a joke about Nimo\")\n",
    "chat_model.invoke([message])"
   ]
  },
  {
   "cell_type": "markdown",
   "id": "9bf23071-c562-4b59-8923-d917b573955c",
   "metadata": {},
   "source": [
    "Passing message to the model using ChatPromptTemplate"
   ]
  },
  {
   "cell_type": "code",
   "execution_count": 6,
   "id": "0e3dc4b4-957e-43bf-89d4-b01f9edc677b",
   "metadata": {},
   "outputs": [
    {
     "data": {
      "text/plain": [
       "ChatPromptValue(messages=[SystemMessage(content='You are a comedian. Joke about whatever you receive from the user.')])"
      ]
     },
     "execution_count": 6,
     "metadata": {},
     "output_type": "execute_result"
    }
   ],
   "source": [
    "user_prompt = ChatPromptTemplate([\n",
    "    (\"system\", \"You are a comedian. Joke about whatever you receive from the user.\")\n",
    "])\n",
    "\n",
    "user_prompt.invoke({})"
   ]
  },
  {
   "cell_type": "code",
   "execution_count": 11,
   "id": "8aa270a7-6e1e-4556-9881-560dc2aed519",
   "metadata": {},
   "outputs": [],
   "source": [
    "user_prompt2 = ChatPromptTemplate([\n",
    "    (\"system\", \"You are teaching a 5 year old student. Explain any given topic like explaining to a 5 year old.\"),\n",
    "    (\"user\", \"{question}\")\n",
    "])"
   ]
  },
  {
   "cell_type": "markdown",
   "id": "8acc5906-39c7-4429-8058-b1273564781c",
   "metadata": {},
   "source": [
    "# Creating a basic chain"
   ]
  },
  {
   "cell_type": "code",
   "execution_count": 7,
   "id": "fe03efcd-e86f-409c-a0d3-7443ffaa78e9",
   "metadata": {},
   "outputs": [],
   "source": [
    "output_parser = StrOutputParser()"
   ]
  },
  {
   "cell_type": "code",
   "execution_count": 8,
   "id": "1d658675-f2d6-452e-b6cd-4add51291be5",
   "metadata": {},
   "outputs": [],
   "source": [
    "chain = user_prompt | chat_model | output_parser"
   ]
  },
  {
   "cell_type": "code",
   "execution_count": 9,
   "id": "ac7736c3-91fc-4b08-9ce6-9a91db795179",
   "metadata": {},
   "outputs": [
    {
     "data": {
      "text/plain": [
       "'Why did the scarecrow win an award?\\n\\nBecause he was outstanding in his field!'"
      ]
     },
     "execution_count": 9,
     "metadata": {},
     "output_type": "execute_result"
    }
   ],
   "source": [
    "chain.invoke({})"
   ]
  },
  {
   "cell_type": "markdown",
   "id": "277a8775-46af-4f6b-927a-b0cb2b41a2b9",
   "metadata": {},
   "source": [
    "Stream the content"
   ]
  },
  {
   "cell_type": "code",
   "execution_count": 10,
   "id": "8d6f844e-e855-41db-b095-5142f7aa38c2",
   "metadata": {},
   "outputs": [
    {
     "name": "stdout",
     "output_type": "stream",
     "text": [
      "|Why| did| the| scare|crow| win| an| award|?\n",
      "\n",
      "|Because| he| was| outstanding| in| his| field|!||"
     ]
    }
   ],
   "source": [
    "for chunk in chain.stream({}):\n",
    "    print(chunk, end=\"|\")"
   ]
  },
  {
   "cell_type": "code",
   "execution_count": 12,
   "id": "630d2d4e-682e-4d6a-8732-2379a6f146b0",
   "metadata": {},
   "outputs": [],
   "source": [
    "chain2 =  user_prompt2 | chat_model | output_parser"
   ]
  },
  {
   "cell_type": "code",
   "execution_count": 14,
   "id": "59d8deff-9a23-4dba-8b2a-00e8c767df99",
   "metadata": {},
   "outputs": [
    {
     "data": {
      "text/plain": [
       "\"Cricket is a fun game that people play with a bat and a ball. It's like playing catch, but with some special rules. One team tries to score runs by hitting the ball and running back and forth between two sets of sticks called wickets. The other team tries to stop them by getting the batters out. It's a game that lots of people enjoy playing outside on a big field.\""
      ]
     },
     "execution_count": 14,
     "metadata": {},
     "output_type": "execute_result"
    }
   ],
   "source": [
    "chain2.invoke({\"question\": \"What is cricket sport?\"})"
   ]
  },
  {
   "cell_type": "markdown",
   "id": "c366b428-c1e1-4cf0-962d-740824b84f6d",
   "metadata": {},
   "source": [
    "# Proving context to the model"
   ]
  },
  {
   "cell_type": "code",
   "execution_count": 16,
   "id": "9f643edf-e23a-4903-91e6-f3745eeab525",
   "metadata": {},
   "outputs": [
    {
     "data": {
      "text/plain": [
       "'An outhouse is a small building that is usually located outside of a main house. It looks like a tiny house with a door that you can open to go inside. Inside, there is a small toilet that you can use when you need to go potty. Some outhouses have a little window to let in light, and they might have a moon shape on the door. Outhouses are often found in places where there is no indoor plumbing, like in the countryside or at campsites.'"
      ]
     },
     "execution_count": 16,
     "metadata": {},
     "output_type": "execute_result"
    }
   ],
   "source": [
    "chain2.invoke({\"question\": \"How does out house look like?\"})"
   ]
  },
  {
   "cell_type": "code",
   "execution_count": 22,
   "id": "550679ca-c098-4a32-b4e5-bfc842f12718",
   "metadata": {},
   "outputs": [],
   "source": [
    "CONTEXT = \"Our house is a 4 storey townhouse with yellow coloured walls. It has a basement, frontyard and a backyard\"\n",
    "\n",
    "user_prompt = ChatPromptTemplate([\n",
    "    (\"system\", \"You know the details about: {context}\"),\n",
    "    (\"user\", \"{question}\")\n",
    "])"
   ]
  },
  {
   "cell_type": "code",
   "execution_count": 23,
   "id": "63691b6a-f06b-44be-887f-724dffc38ae5",
   "metadata": {},
   "outputs": [],
   "source": [
    "chain = user_prompt | chat_model | output_parser"
   ]
  },
  {
   "cell_type": "code",
   "execution_count": 24,
   "id": "e1e3d786-dd13-462d-9773-c63099fec12b",
   "metadata": {},
   "outputs": [
    {
     "data": {
      "text/plain": [
       "'Your house is a 4 storey townhouse with yellow coloured walls. It has a basement, frontyard, and a backyard. The yellow walls give it a bright and cheerful appearance. The frontyard likely has some landscaping or a pathway leading up to the entrance, while the backyard may have a garden or outdoor seating area. Overall, your house has a welcoming and vibrant look to it.'"
      ]
     },
     "execution_count": 24,
     "metadata": {},
     "output_type": "execute_result"
    }
   ],
   "source": [
    "chain.invoke({\n",
    "    \"context\": CONTEXT,\n",
    "    \"question\": \"How does our house look?\"\n",
    "})"
   ]
  },
  {
   "cell_type": "code",
   "execution_count": null,
   "id": "1037c67a-6edd-47d4-bdfa-c390bd3de638",
   "metadata": {},
   "outputs": [],
   "source": []
  }
 ],
 "metadata": {
  "kernelspec": {
   "display_name": "Python 3 (ipykernel)",
   "language": "python",
   "name": "python3"
  },
  "language_info": {
   "codemirror_mode": {
    "name": "ipython",
    "version": 3
   },
   "file_extension": ".py",
   "mimetype": "text/x-python",
   "name": "python",
   "nbconvert_exporter": "python",
   "pygments_lexer": "ipython3",
   "version": "3.12.4"
  }
 },
 "nbformat": 4,
 "nbformat_minor": 5
}
