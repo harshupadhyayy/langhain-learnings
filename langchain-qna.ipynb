{
 "cells": [
  {
   "cell_type": "markdown",
   "id": "0c66cde3-1465-4670-91a3-25cc66970ae7",
   "metadata": {},
   "source": [
    "# Importing the required modules"
   ]
  },
  {
   "cell_type": "code",
   "execution_count": 63,
   "id": "77e7c14d-8dc7-4703-96c0-ca2ff4269e79",
   "metadata": {},
   "outputs": [],
   "source": [
    "import wikipedia\n",
    "from langchain_openai import ChatOpenAI\n",
    "from langchain_core.output_parsers import StrOutputParser\n",
    "from langchain.prompts import PromptTemplate\n",
    "from langchain_core.runnables import RunnablePassthrough\n",
    "from langchain_core.documents import Document\n",
    "from langchain_text_splitters import RecursiveCharacterTextSplitter\n",
    "from langchain_openai import OpenAIEmbeddings\n",
    "from langchain_community.vectorstores import FAISS"
   ]
  },
  {
   "cell_type": "markdown",
   "id": "2e7264ae-cc2e-4861-ae8e-cf552ea176e4",
   "metadata": {},
   "source": [
    "# Initializing the LLM"
   ]
  },
  {
   "cell_type": "code",
   "execution_count": 26,
   "id": "534e4ed8-c552-4a8d-8af5-82be0e153b44",
   "metadata": {},
   "outputs": [],
   "source": [
    "llm = ChatOpenAI(model=\"gpt-3.5-turbo-0125\")"
   ]
  },
  {
   "cell_type": "markdown",
   "id": "c03be7f5-1774-447b-88d0-93b0fa05918b",
   "metadata": {},
   "source": [
    "# Observing the output before any context is provided to the LLM"
   ]
  },
  {
   "cell_type": "code",
   "execution_count": 29,
   "id": "029375dd-79ab-447f-b102-d90b50430d3a",
   "metadata": {},
   "outputs": [
    {
     "data": {
      "text/plain": [
       "AIMessage(content=\"I'm just a computer program, so I don't have feelings, but I'm here and ready to assist you. How can I help you today?\", additional_kwargs={'refusal': None}, response_metadata={'token_usage': {'completion_tokens': 31, 'prompt_tokens': 12, 'total_tokens': 43}, 'model_name': 'gpt-3.5-turbo-0125', 'system_fingerprint': None, 'finish_reason': 'stop', 'logprobs': None}, id='run-60e0ef38-dfc3-4c22-867a-33205dd62b56-0', usage_metadata={'input_tokens': 12, 'output_tokens': 31, 'total_tokens': 43})"
      ]
     },
     "execution_count": 29,
     "metadata": {},
     "output_type": "execute_result"
    }
   ],
   "source": [
    "llm.invoke(\"How are you today?\")"
   ]
  },
  {
   "cell_type": "code",
   "execution_count": 31,
   "id": "9e8da7bd-9f3b-450e-80f0-5e672da4ce20",
   "metadata": {},
   "outputs": [
    {
     "data": {
      "text/plain": [
       "AIMessage(content=\"I am unable to provide real-time information as I am an AI assistant. Please refer to the official Paralympics website or news sources for the most up-to-date information on India's medal count at the 2024 Paralympic Games.\", additional_kwargs={'refusal': None}, response_metadata={'token_usage': {'completion_tokens': 51, 'prompt_tokens': 22, 'total_tokens': 73}, 'model_name': 'gpt-3.5-turbo-0125', 'system_fingerprint': None, 'finish_reason': 'stop', 'logprobs': None}, id='run-2be8be9b-f594-45d6-9150-05a5d8b9b677-0', usage_metadata={'input_tokens': 22, 'output_tokens': 51, 'total_tokens': 73})"
      ]
     },
     "execution_count": 31,
     "metadata": {},
     "output_type": "execute_result"
    }
   ],
   "source": [
    "llm.invoke(\"How many medals did India win at Paralympics 2024?\")"
   ]
  },
  {
   "cell_type": "code",
   "execution_count": 52,
   "id": "374c1c06-fbc1-4efb-83b1-e60d385b09b7",
   "metadata": {},
   "outputs": [
    {
     "data": {
      "text/plain": [
       "AIMessage(content='No, the Indian cricket team has not won the ICC Cricket World Cup recently. Their last World Cup victory was in 2011 when they won the tournament held in India, Sri Lanka, and Bangladesh. Since then, they have not been able to win the World Cup.', additional_kwargs={'refusal': None}, response_metadata={'token_usage': {'completion_tokens': 55, 'prompt_tokens': 16, 'total_tokens': 71}, 'model_name': 'gpt-3.5-turbo-0125', 'system_fingerprint': None, 'finish_reason': 'stop', 'logprobs': None}, id='run-e0e536dd-7f7f-430f-857f-d4a47692bb28-0', usage_metadata={'input_tokens': 16, 'output_tokens': 55, 'total_tokens': 71})"
      ]
     },
     "execution_count": 52,
     "metadata": {},
     "output_type": "execute_result"
    }
   ],
   "source": [
    "llm.invoke(\"Did Indian cricket team win world cup recently?\")"
   ]
  },
  {
   "cell_type": "markdown",
   "id": "6c5d18b0-83a2-48e8-b728-ab5a37f0743d",
   "metadata": {},
   "source": [
    "# Getting context about an article from Wikipedia"
   ]
  },
  {
   "cell_type": "code",
   "execution_count": 32,
   "id": "89613aa4-94a9-4208-b9d4-bf5aea24877e",
   "metadata": {},
   "outputs": [],
   "source": [
    "data = wikipedia.page(\"India at the Paralympics\")"
   ]
  },
  {
   "cell_type": "code",
   "execution_count": 36,
   "id": "35999a75-bdd3-4ef6-800f-c654764b9888",
   "metadata": {},
   "outputs": [
    {
     "name": "stdout",
     "output_type": "stream",
     "text": [
      "India first participated in the 1968 Summer Paralympics. The nation has appeared in every edition of the Summer Paralympics since 1984. The Paris 2024 Games marked India's 13th appearance at the Paral\n",
      "7011\n"
     ]
    }
   ],
   "source": [
    "print(data.content[:200])\n",
    "print(len(data.content))"
   ]
  },
  {
   "cell_type": "markdown",
   "id": "4afa8164-7a96-40f2-921f-9e07a2c49aa4",
   "metadata": {},
   "source": [
    "# Providing context to model and creating a chain"
   ]
  },
  {
   "cell_type": "markdown",
   "id": "8705d8d6-b755-4f7c-96ae-a91d1a476f50",
   "metadata": {},
   "source": [
    "Providing context to the model"
   ]
  },
  {
   "cell_type": "code",
   "execution_count": 41,
   "id": "67a17dd9-7d7f-4f0d-8d31-77ee513385ac",
   "metadata": {},
   "outputs": [],
   "source": [
    "user_prompt = PromptTemplate.from_template(\n",
    "    \"\"\"\n",
    "    You are provided information about the topic. Answer the question asked by the user.\n",
    "    Context: {data}\n",
    "    Question: {question}\n",
    "    Answer:\n",
    "    \"\"\"\n",
    ")"
   ]
  },
  {
   "cell_type": "code",
   "execution_count": 42,
   "id": "56817b71-5889-4955-9aa1-c8beabb301b2",
   "metadata": {},
   "outputs": [],
   "source": [
    "chain = user_prompt | llm | StrOutputParser()"
   ]
  },
  {
   "cell_type": "code",
   "execution_count": 44,
   "id": "ae65e28c-8bbb-46ff-be6e-7a6b72e79863",
   "metadata": {},
   "outputs": [
    {
     "data": {
      "text/plain": [
       "'India won a total of 29 medals at the Paralympics 2024, including seven gold, nine silver, and thirteen bronze medals.'"
      ]
     },
     "execution_count": 44,
     "metadata": {},
     "output_type": "execute_result"
    }
   ],
   "source": [
    "chain.invoke({\n",
    "    \"data\": data.content,\n",
    "    \"question\": \"How many medals did India win at Paralympics 2024?\"\n",
    "})"
   ]
  },
  {
   "cell_type": "markdown",
   "id": "c8fa0b9c-41aa-4321-9273-958334c52301",
   "metadata": {},
   "source": [
    "# Part 2: Taking multiple documents and using FAISS to query"
   ]
  },
  {
   "cell_type": "markdown",
   "id": "3fc94d12-ca48-4f5e-b7a0-be2de8e3197d",
   "metadata": {},
   "source": [
    "Here we get the information about relevant topics from Wikipedia, split the large docs into chunks, convert the text to vectors and store them in FAISS Vector database for further use"
   ]
  },
  {
   "cell_type": "code",
   "execution_count": 51,
   "id": "9ce5f6fc-cba3-4857-b9fb-666f6ab83c44",
   "metadata": {},
   "outputs": [],
   "source": [
    "doc = Document(page_content=data.content)"
   ]
  },
  {
   "cell_type": "code",
   "execution_count": 55,
   "id": "f535c126-ac98-4eec-8c7a-c3d21734ce91",
   "metadata": {},
   "outputs": [],
   "source": [
    "topics = [\n",
    "    \"India at the Paralympics\",\n",
    "    \"India national cricket team\"\n",
    "]"
   ]
  },
  {
   "cell_type": "code",
   "execution_count": 56,
   "id": "8260c77b-c7b1-4845-a99d-3393b68a21a9",
   "metadata": {},
   "outputs": [],
   "source": [
    "docs = []\n",
    "for topic in topics:\n",
    "    data = wikipedia.page(topic)\n",
    "    doc = Document(page_content=data.content)\n",
    "    docs.append(doc)"
   ]
  },
  {
   "cell_type": "code",
   "execution_count": 59,
   "id": "3fc1ff97-b987-4c89-8fba-acb34d73eff1",
   "metadata": {},
   "outputs": [],
   "source": [
    "text_splitter = RecursiveCharacterTextSplitter(chunk_size = 1000, chunk_overlap = 200)"
   ]
  },
  {
   "cell_type": "code",
   "execution_count": 60,
   "id": "c63130e1-f397-4171-a019-6d4cd2e18c05",
   "metadata": {},
   "outputs": [],
   "source": [
    "splits = text_splitter.split_documents(docs)"
   ]
  },
  {
   "cell_type": "code",
   "execution_count": 62,
   "id": "8f4d8bd5-c2b8-4f41-a2f9-3e82b70e26b9",
   "metadata": {},
   "outputs": [
    {
     "data": {
      "text/plain": [
       "80"
      ]
     },
     "execution_count": 62,
     "metadata": {},
     "output_type": "execute_result"
    }
   ],
   "source": [
    "len(splits)"
   ]
  },
  {
   "cell_type": "code",
   "execution_count": 64,
   "id": "5fd0be6e-4c47-424c-90e6-aa53d72183ac",
   "metadata": {},
   "outputs": [],
   "source": [
    "vector_store = FAISS.from_documents(documents=splits, embedding=OpenAIEmbeddings())"
   ]
  },
  {
   "cell_type": "code",
   "execution_count": 69,
   "id": "774edb24-114c-4f3b-8817-6f979abbf9d0",
   "metadata": {},
   "outputs": [],
   "source": [
    "query = \"Medals won by India at Paralympics\"\n",
    "result = vector_store.similarity_search(query)"
   ]
  },
  {
   "cell_type": "code",
   "execution_count": 70,
   "id": "207515bc-98cc-4cea-a77c-816c72104a92",
   "metadata": {},
   "outputs": [],
   "source": [
    "retriever = vector_store.as_retriever()"
   ]
  },
  {
   "cell_type": "code",
   "execution_count": 74,
   "id": "72c0e8ef-d51f-4cc3-85dc-94d931f90553",
   "metadata": {},
   "outputs": [
    {
     "data": {
      "text/plain": [
       "[Document(page_content=\"India sent its largest contingent for the 2024 Games consisting of 84 people competing across 12 sports. India has won 29 medals with seven gold, nine silver, and thirteen bronze medals. Avani Lekhara won a gold medal in shooting for the second consecutive Games and became the first Indian woman paralympic athlete to win back-to-back gold and multiple medals. Kumar Nitesh won a gold medal in badminton at the men's singles SL3 event. Sumit Antil became the first Indian male athelete to defend a title at the Paralympics after he won the gold medal in the men's javelin throw F64 event, while setting two Paralympic records in the process.\"),\n",
       " Document(page_content='In badminton, Indian shuttlers won four medals including two gold medals by Pramod Bhagat and Krishna Nagar, a silver medal by Suhas Yathiraj and a bronze medal by Manoj Sarkar. In athletics, India won eight medals including one gold, five silver and two bronze medals. Sumit Antil won a gold medal in Javelin throw F64 with a new world record. Mariyappan Thangavelu and Devendra Jhajharia won silver medals to go along with the gold medals they won in the 2016 Games. This was Jhajharia third medal, which is the most by an Indian Para athlete in the Paralympic Games along with Joginder Singh Bedi. Nishad Kumar and Praveen Kumar won silver medals and Sharad Kumar and Sundar Singh Gurjar were the other bronze medalists.'),\n",
       " Document(page_content=\"=== Early 21st century (2004–2016) ===\\nIn 2004, India won two medals with Devendra Jhajharia winning a gold medal in the javelin throw event and Rajinder Singh Rahelu securing a bronze medal in powerlifting. The only Indian medal across the next two editions came from Girisha Nagarajegowda, who won a silver medal in the Men's high jump F42 event at the 2012 Games.\\nIndia sent a delegation of 19 athletes for the 2016 Summer Paralympics. India won four medals in the event and the Games also marked the first instance of India winning two gold medals. Mariyappan Thangavelu won the first gold medal in the Men's high jump T42 event. Devendra Jhajharia became the first Indian to win multiple gold medals after his win in the Men's javelin throw F46 event. Deepa Malik and Varun Bhati were the other medalists with a silver and bronze medal respectively. Malik became the first Indian woman medalist in the Paralympic Games.\"),\n",
       " Document(page_content=\"India first participated in the 1968 Summer Paralympics. The nation has appeared in every edition of the Summer Paralympics since 1984. The Paris 2024 Games marked India's 13th appearance at the Paralympics. The country has never participated in the Winter Paralympic Games.\\nIndia's first medal in the Paralympics came in the 1972 Games, with Murlikant Petkar winning a gold medal in swimming. Prior to the 2024 Games, India had won 31 medals across all Paralympic Games, with the most successful Paralympic campaign being the Paris 2024 Games with 29 medals including seven gold, nine silver and thirteen bronze.\\n\\n\\n== History ==\")]"
      ]
     },
     "execution_count": 74,
     "metadata": {},
     "output_type": "execute_result"
    }
   ],
   "source": [
    "retriever.invoke(\"India medals at Paralympics\")"
   ]
  },
  {
   "cell_type": "markdown",
   "id": "89f9800f-6756-4197-ab3d-db28997fff2b",
   "metadata": {},
   "source": [
    "Creating a chain that fetched the documents from vector database as context and generates the output"
   ]
  },
  {
   "cell_type": "code",
   "execution_count": 76,
   "id": "1191133f-9bf9-4d4a-8325-2cca1648e138",
   "metadata": {},
   "outputs": [],
   "source": [
    "user_prompt = PromptTemplate.from_template(\n",
    "    \"\"\"\n",
    "    You are an AI assistant who can answer the question based on the context provided\n",
    "    Context: {context}\n",
    "    Question: {question}\n",
    "    Answer:\n",
    "    \"\"\"\n",
    ")"
   ]
  },
  {
   "cell_type": "code",
   "execution_count": 77,
   "id": "7b6d4622-2975-42d1-aa5d-752012171101",
   "metadata": {},
   "outputs": [
    {
     "data": {
      "text/plain": [
       "PromptTemplate(input_variables=['context', 'question'], template='\\n    You are an AI assistant who can answer the question based on the context provided\\n    Context: {context}\\n    Question: {question}\\n    Answer:\\n    ')"
      ]
     },
     "execution_count": 77,
     "metadata": {},
     "output_type": "execute_result"
    }
   ],
   "source": [
    "user_prompt"
   ]
  },
  {
   "cell_type": "code",
   "execution_count": 82,
   "id": "50aa6be7-175b-4d3d-98ed-e4bf22e57e3e",
   "metadata": {},
   "outputs": [],
   "source": [
    "chain = (\n",
    "    {\"context\": retriever, \"question\": RunnablePassthrough()}\n",
    "    | user_prompt\n",
    "    | llm\n",
    "    | StrOutputParser()\n",
    ")"
   ]
  },
  {
   "cell_type": "code",
   "execution_count": 83,
   "id": "7535feaf-d36c-4e48-9739-1359ea80a047",
   "metadata": {},
   "outputs": [
    {
     "data": {
      "text/plain": [
       "'India has won a total of 29 medals at the Paralympic Games, including seven gold, nine silver, and thirteen bronze medals. Some notable achievements include Avani Lekhara winning back-to-back gold medals in shooting, Kumar Nitesh winning a gold in badminton, Sumit Antil defending his title in javelin throw, and Indian shuttlers winning four medals in badminton.'"
      ]
     },
     "execution_count": 83,
     "metadata": {},
     "output_type": "execute_result"
    }
   ],
   "source": [
    "chain.invoke(\"Medals by India at Paralympics\")"
   ]
  }
 ],
 "metadata": {
  "kernelspec": {
   "display_name": "Python 3 (ipykernel)",
   "language": "python",
   "name": "python3"
  },
  "language_info": {
   "codemirror_mode": {
    "name": "ipython",
    "version": 3
   },
   "file_extension": ".py",
   "mimetype": "text/x-python",
   "name": "python",
   "nbconvert_exporter": "python",
   "pygments_lexer": "ipython3",
   "version": "3.12.4"
  }
 },
 "nbformat": 4,
 "nbformat_minor": 5
}
